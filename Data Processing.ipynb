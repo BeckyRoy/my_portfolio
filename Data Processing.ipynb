{
 "cells": [
  {
   "cell_type": "markdown",
   "metadata": {},
   "source": [
    "#  Notebook 3 of MBC topic modeling in BHC. \n",
    "***\n",
    "This notebook is processing data from MBC websites \n",
    "***"
   ]
  },
  {
   "cell_type": "code",
   "execution_count": 1,
   "metadata": {},
   "outputs": [
    {
     "name": "stderr",
     "output_type": "stream",
     "text": [
      "C:\\Users\\becky\\anaconda3\\lib\\site-packages\\past\\builtins\\misc.py:45: DeprecationWarning: the imp module is deprecated in favour of importlib; see the module's documentation for alternative uses\n",
      "  from imp import reload\n"
     ]
    }
   ],
   "source": [
    "# This is the library of packages used in this model with a comment as to why they are needed\n",
    "\n",
    "# Turn off pesky warnings\n",
    "import warnings\n",
    "warnings.filterwarnings(\"ignore\")\n",
    "\n",
    "# Need numpy and pandas for easier data manipulation\n",
    "import pandas as pd\n",
    "import numpy as np\n",
    "\n",
    "# In order to save data at intermediate points for Excel pivoting and visualization, need the ability to write data to csv\n",
    "import csv\n",
    "\n",
    "from openpyxl import load_workbook\n",
    "\n",
    "# Need datetime for manipulating date-time data in analysis and filtering\n",
    "import datetime\n",
    "\n",
    "# Bring in the copy package in case we need it to copy some lists or dataframes\n",
    "import copy\n",
    "\n",
    "# Need matplotlib and seaborne for visualizing the data\n",
    "import matplotlib.pyplot as plt \n",
    "%matplotlib inline\n",
    "import seaborn as sns\n",
    "import matplotlib.pyplot as plt \n",
    "\n",
    "# show all columns when displaying pandas dfs\n",
    "pd.set_option('display.max_columns', None)\n",
    "\n",
    "# show a time running when executing long loops\n",
    "from tqdm import tqdm\n",
    "\n",
    "# Needed for parralellizing the running of the lemmatization and lda model runs, saves big time when assessing data\n",
    "from joblib import Parallel, delayed \n",
    "\n",
    "# Need to be able to hit urls for some of the data tools\n",
    "import requests\n",
    "\n",
    "# Bring in the package for regular expressions for easier data manipulation\n",
    "import re\n",
    "import pickle\n",
    "from tqdm import tqdm\n",
    "\n",
    "# To enable pretty printing, we need to load pprint\n",
    "from pprint import pprint\n",
    "\n",
    "# Import the applicable gensim package components for manipulating data and doing LDA modeling\n",
    "import gensim\n",
    "import gensim.corpora as corpora\n",
    "from gensim.utils import simple_preprocess\n",
    "from gensim.models import CoherenceModel\n",
    "\n",
    "# bring in spacy for lemmatization of our corpora\n",
    "import spacy\n",
    "\n",
    "# Plotting tools that we will need to use \n",
    "import pyLDAvis\n",
    "import pyLDAvis.gensim_models\n",
    "\n",
    "# Initialize spacy 'en' model, keeping only tagger component (for efficiency)\n",
    "# python3 -m spacy download en ... This was needed when first setting up spacy in the environment\n",
    "nlp = spacy.load('en_core_web_sm')\n",
    "\n",
    "# Bring in tqdm to track progress of for loops\n",
    "from tqdm import tqdm\n",
    "\n",
    "# Turn off pesky warnings by ignoring deprecation warnings\n",
    "import warnings\n",
    "warnings.filterwarnings(\"ignore\",category=DeprecationWarning)\n",
    "\n",
    "import os"
   ]
  },
  {
   "cell_type": "code",
   "execution_count": 2,
   "metadata": {},
   "outputs": [
    {
     "data": {
      "text/html": [
       "<div>\n",
       "<style scoped>\n",
       "    .dataframe tbody tr th:only-of-type {\n",
       "        vertical-align: middle;\n",
       "    }\n",
       "\n",
       "    .dataframe tbody tr th {\n",
       "        vertical-align: top;\n",
       "    }\n",
       "\n",
       "    .dataframe thead th {\n",
       "        text-align: right;\n",
       "    }\n",
       "</style>\n",
       "<table border=\"1\" class=\"dataframe\">\n",
       "  <thead>\n",
       "    <tr style=\"text-align: right;\">\n",
       "      <th></th>\n",
       "      <th>company</th>\n",
       "      <th>document_type</th>\n",
       "      <th>document_format</th>\n",
       "      <th>title</th>\n",
       "      <th>text</th>\n",
       "    </tr>\n",
       "  </thead>\n",
       "  <tbody>\n",
       "    <tr>\n",
       "      <th>0</th>\n",
       "      <td>Azzly</td>\n",
       "      <td>Who_we_serve</td>\n",
       "      <td>web_page</td>\n",
       "      <td>Addiction Treatment Providers</td>\n",
       "      <td>Medication-Assisted Treatment AZZLY Rize simpl...</td>\n",
       "    </tr>\n",
       "    <tr>\n",
       "      <th>1</th>\n",
       "      <td>Azzly</td>\n",
       "      <td>Product_info</td>\n",
       "      <td>web_page</td>\n",
       "      <td>Analytics</td>\n",
       "      <td>An essential step for any business seeking to ...</td>\n",
       "    </tr>\n",
       "    <tr>\n",
       "      <th>2</th>\n",
       "      <td>Azzly</td>\n",
       "      <td>Product_info</td>\n",
       "      <td>web_page</td>\n",
       "      <td>Billing/RCM</td>\n",
       "      <td>Billing/RCM  MAT labs can click once and add a...</td>\n",
       "    </tr>\n",
       "    <tr>\n",
       "      <th>3</th>\n",
       "      <td>Azzly</td>\n",
       "      <td>Product_info</td>\n",
       "      <td>web_page</td>\n",
       "      <td>Capitation</td>\n",
       "      <td>AZZLY Reporting for Capitation Billing Overvie...</td>\n",
       "    </tr>\n",
       "    <tr>\n",
       "      <th>4</th>\n",
       "      <td>Azzly</td>\n",
       "      <td>Product_info</td>\n",
       "      <td>web_page</td>\n",
       "      <td>Electronic Health Record</td>\n",
       "      <td>Integrated Care Pathways AZZLY's Integrated Ca...</td>\n",
       "    </tr>\n",
       "  </tbody>\n",
       "</table>\n",
       "</div>"
      ],
      "text/plain": [
       "  company document_type document_format                          title  \\\n",
       "0   Azzly  Who_we_serve        web_page  Addiction Treatment Providers   \n",
       "1   Azzly  Product_info        web_page                      Analytics   \n",
       "2   Azzly  Product_info        web_page                    Billing/RCM   \n",
       "3   Azzly  Product_info        web_page                     Capitation   \n",
       "4   Azzly  Product_info        web_page       Electronic Health Record   \n",
       "\n",
       "                                                text  \n",
       "0  Medication-Assisted Treatment AZZLY Rize simpl...  \n",
       "1  An essential step for any business seeking to ...  \n",
       "2  Billing/RCM  MAT labs can click once and add a...  \n",
       "3  AZZLY Reporting for Capitation Billing Overvie...  \n",
       "4  Integrated Care Pathways AZZLY's Integrated Ca...  "
      ]
     },
     "execution_count": 2,
     "metadata": {},
     "output_type": "execute_result"
    }
   ],
   "source": [
    "df = pd.read_csv('MBC Dataset Combined.csv')\n",
    "df.head()"
   ]
  },
  {
   "cell_type": "code",
   "execution_count": 3,
   "metadata": {},
   "outputs": [
    {
     "name": "stdout",
     "output_type": "stream",
     "text": [
      "There are 221 stop words.\n"
     ]
    }
   ],
   "source": [
    "# NLTK Stop words - We have already downloaded the stopwords. Let’s import them and make it available in stop_words, adding a few ones for our purposes\n",
    "from nltk.corpus import stopwords\n",
    "stop_words = stopwords.words('english')\n",
    "stop_words.extend(['from', 'subject', 're', 'edu', 'use', 'azzly', 'bhwork', 'bhworks', 'mdlogix', 'blueprint', 'celestHealth', 'greenspace', 'holmusk', 'horizon', 'ksana', 'mirah', 'myoutcome', 'myoutcomes', 'neuroblu', 'neuroflow', 'nextstep', 'nview', 'owl', 'silvercloud', 'tridiuum', 'valant', 'vivi', 'vivihealth', 'rize', 'pcoms', 'vivicompanion', 'richard', 'richards', 'duncan', 'lambert', 'kollin', 'kollins', 'reese', 'miller', 'com', 'non', 'pre'])\n",
    "\n",
    "# Now lets take a look at how many stop words we have in our extended list\n",
    "print(\"There are\", len(stop_words), \"stop words.\")"
   ]
  },
  {
   "cell_type": "code",
   "execution_count": 19,
   "metadata": {},
   "outputs": [
    {
     "data": {
      "image/png": "[encoded data removed]",
      "text/plain": [
       "<Figure size 640x480 with 1 Axes>"
      ]
     },
     "metadata": {},
     "output_type": "display_data"
    }
   ],
   "source": [
    "# Get the count of words in each document\n",
    "word_count_before = pd.Series([len(i.split()) for i in df.text])\n",
    "word_count_before.hist(bins = 50)\n",
    "word_count_before.to_csv(\"Count of words before preprocessing.csv\")"
   ]
  },
  {
   "cell_type": "code",
   "execution_count": 5,
   "metadata": {},
   "outputs": [
    {
     "name": "stderr",
     "output_type": "stream",
     "text": [
      "100%|██████████| 1719/1719 [03:12<00:00,  8.94it/s]\n"
     ]
    }
   ],
   "source": [
    "# Create the function to loop through and do our lemmatization\n",
    "def lemmatization(text, allowed_postags):\n",
    "    doc = nlp(text)\n",
    "    return([token.lemma_ for token in doc if token.pos_ in allowed_postags])\n",
    "\n",
    "# Prep the list we will use to store the lemmatized words and the define the allowable word types for keeping\n",
    "data_words = []\n",
    "allowed_postags=['NOUN', 'ADJ', 'VERB', 'ADV', 'PROPN']\n",
    "\n",
    "# Now loop through the texts and create a lemmatized list of words that we will save in a list of lists\n",
    "for text in tqdm(df.text):\n",
    "    data_words.append(lemmatization(text, allowed_postags))"
   ]
  },
  {
   "cell_type": "code",
   "execution_count": 6,
   "metadata": {},
   "outputs": [
    {
     "name": "stderr",
     "output_type": "stream",
     "text": [
      "[Parallel(n_jobs=10)]: Using backend LokyBackend with 10 concurrent workers.\n",
      "[Parallel(n_jobs=10)]: Done  16 tasks      | elapsed:    4.1s\n",
      "[Parallel(n_jobs=10)]: Done 1522 tasks      | elapsed:    4.5s\n",
      "[Parallel(n_jobs=10)]: Done 1612 tasks      | elapsed:    4.7s\n",
      "[Parallel(n_jobs=10)]: Done 1719 out of 1719 | elapsed:    4.9s finished\n"
     ]
    }
   ],
   "source": [
    "#First thing we need to do is bring in the url and create the dictionary with brit spellings as key and american as value\n",
    "url =\"https://raw.githubusercontent.com/hyperreality/American-British-English-Translator/master/data/british_spellings.json\"\n",
    "british_to_american_dict = requests.get(url).json()    \n",
    "british_to_american_dict\n",
    "\n",
    "# Next we need to define a function to do the swap outs in parallel\n",
    "def americanize(word_list, swap_dict):\n",
    "    dl1 = []\n",
    "    for word in word_list:\n",
    "        if word in swap_dict:\n",
    "            dl1.append(swap_dict[word])\n",
    "        else:\n",
    "            dl1.append(word)\n",
    "    return(dl1)\n",
    "\n",
    "# Set up for the parallel processing parameters\n",
    "num_CPUs = 10\n",
    "isVisual = 5\n",
    "\n",
    "# Then run a parallel job to do all the swap outs\n",
    "data_words1 = Parallel(n_jobs = num_CPUs, verbose = isVisual, batch_size = 30)(delayed(americanize)(word_list, british_to_american_dict) \n",
    "                                                                              for word_list in data_words)"
   ]
  },
  {
   "cell_type": "code",
   "execution_count": 7,
   "metadata": {
    "tags": []
   },
   "outputs": [],
   "source": [
    "# Define our function to loop through\n",
    "def remove_stopwords(texts):\n",
    "    return [[word for word in simple_preprocess(str(doc), max_len = 30) if word not in stop_words] for doc in texts]\n",
    "\n",
    "# Then remove the stopwords\n",
    "data_words2 = remove_stopwords(data_words1)"
   ]
  },
  {
   "cell_type": "code",
   "execution_count": 8,
   "metadata": {},
   "outputs": [
    {
     "name": "stderr",
     "output_type": "stream",
     "text": [
      "100%|██████████| 1719/1719 [00:00<00:00, 15169.42it/s]\n"
     ]
    }
   ],
   "source": [
    "# This function will take in a list of words and remove any words that are smaller than 3 characters\n",
    "def remove_short_words(word_list, min_length):\n",
    "    count = 0\n",
    "    # Create paceholder list to build with word_list and replaced acronyms\n",
    "    dl2 = []\n",
    "    \n",
    "    # Cycle through the word list and check if that word is a plural in the dictionary\n",
    "    for word in word_list:\n",
    "        \n",
    "        # If long enough, keep the word, otherwise remove it\n",
    "        if len(word) >= min_length:\n",
    "            dl2.append(word)\n",
    "        else:\n",
    "            count = count + 1\n",
    "    \n",
    "#     if count > 0:\n",
    "#         print(\"replaced \", count, \"words\")\n",
    "        \n",
    "    return(dl2)\n",
    "\n",
    "# Create the list we will use to capture the results\n",
    "data_words3 = list()\n",
    "\n",
    "# Run the function to remove short words of 1 or 2 characters\n",
    "for word_list in tqdm(data_words2):\n",
    "    data_words3.append(remove_short_words(word_list, 3))"
   ]
  },
  {
   "cell_type": "code",
   "execution_count": 9,
   "metadata": {},
   "outputs": [
    {
     "name": "stderr",
     "output_type": "stream",
     "text": [
      "100%|██████████| 1719/1719 [01:31<00:00, 18.84it/s]\n"
     ]
    }
   ],
   "source": [
    "# Create the function to loop through and do our lemmatization\n",
    "def lemmatization(text, allowed_postags):\n",
    "    doc = nlp(\" \".join(text))\n",
    "    return([token.lemma_ for token in doc if token.pos_ in allowed_postags])\n",
    "\n",
    "# We've already defined the lemmatization function above, so we just need to rerun it and save the result in a list of lists\n",
    "data_words4 = list()\n",
    "\n",
    "for word_list in tqdm(data_words3):\n",
    "    data_words4.append(lemmatization(word_list, allowed_postags=['NOUN', 'ADJ', 'VERB', 'ADV']))"
   ]
  },
  {
   "cell_type": "code",
   "execution_count": 10,
   "metadata": {},
   "outputs": [],
   "source": [
    "with open(\"Preprocessed data.pickle\", 'wb') as f:\n",
    "    pickle.dump(data_words4, f)"
   ]
  },
  {
   "cell_type": "code",
   "execution_count": 11,
   "metadata": {},
   "outputs": [
    {
     "name": "stdout",
     "output_type": "stream",
     "text": [
      "array size is  (13348, 1719)\n"
     ]
    },
    {
     "name": "stderr",
     "output_type": "stream",
     "text": [
      "1719it [00:00, 9914.22it/s]\n"
     ]
    }
   ],
   "source": [
    "# Create Dictionary\n",
    "id2word = corpora.Dictionary(data_words4)\n",
    "\n",
    "# Create Corpus\n",
    "corpus = [id2word.doc2bow(text) for text in data_words4]\n",
    "\n",
    "# Bring in the getsizeof function to figure out from sys import getsizeof\n",
    "# Create a numpy array of integers that has rows = len(words) & columns = len(documents)\n",
    "wca = np.zeros((len(id2word), len(data_words4)), dtype=np.int64)\n",
    "print(\"array size is \", wca.shape)\n",
    "\n",
    "# Cycle through the corpus to get the count of each word in the document, then save that in the numpy array\n",
    "for count, doc in tqdm(enumerate(corpus)):\n",
    "    for i in doc:\n",
    "        wca[i[0]][count] = i[1]\n",
    "\n",
    "\n",
    "# Calculate the total count of times a word is in the population by counting across the documents\n",
    "word_counts = np.sum(wca, axis = 1)\n",
    "\n",
    "# Calculate the number of documents a word appears incapturing the nonzero counts in each document\n",
    "word_in_docs_count = np.count_nonzero(wca, axis = 1)\n",
    "\n",
    "# Get the list of words out of the dictionary and put it into a dataframe\n",
    "word_list = [id2word[count] for count, i in enumerate(id2word)]\n",
    "word_info = pd.DataFrame(word_list)\n",
    "word_info.columns = ['word']\n",
    "\n",
    "# Add in two columns with the info of word counts in population and the number of documents the word is in\n",
    "word_info['word_count'] = word_counts\n",
    "word_info['num_documents_with_word'] = word_in_docs_count\n",
    "\n",
    "# Save the dataframe for investigation offline \n",
    "word_info_filename = \"Word summary stats in corpus\" + \".csv\"\n",
    "word_info.to_csv(word_info_filename)"
   ]
  },
  {
   "cell_type": "code",
   "execution_count": null,
   "metadata": {},
   "outputs": [],
   "source": []
  }
 ],
 "metadata": {
  "kernelspec": {
   "display_name": "Python 3 (ipykernel)",
   "language": "python",
   "name": "python3"
  },
  "language_info": {
   "codemirror_mode": {
    "name": "ipython",
    "version": 3
   },
   "file_extension": ".py",
   "mimetype": "text/x-python",
   "name": "python",
   "nbconvert_exporter": "python",
   "pygments_lexer": "ipython3",
   "version": "3.9.13"
  }
 },
 "nbformat": 4,
 "nbformat_minor": 4
}
